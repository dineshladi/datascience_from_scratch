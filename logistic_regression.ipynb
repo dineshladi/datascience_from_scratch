{
 "cells": [
  {
   "cell_type": "code",
   "execution_count": 1,
   "metadata": {},
   "outputs": [],
   "source": [
    "import numpy as np\n",
    "import matplotlib.pyplot as plt\n",
    "from sklearn.datasets import load_breast_cancer\n",
    "from sklearn.model_selection import train_test_split\n",
    "from sklearn.preprocessing import normalize"
   ]
  },
  {
   "cell_type": "markdown",
   "metadata": {},
   "source": [
    "Logistic Regression Equation\n",
    "\\begin{equation*}\n",
    "\\log(\\frac{p}{1-p}) = wx + c\n",
    "\\end{equation*}\n",
    "\n",
    "\n",
    "\\begin{equation*}\n",
    "z = wx + c\n",
    "\\end{equation*}\n",
    "\n",
    "\\begin{equation*}\n",
    "\\sigma(z) = \\frac{1}{1 + e^{-z}}\n",
    "\\end{equation*}\n"
   ]
  },
  {
   "cell_type": "code",
   "execution_count": 2,
   "metadata": {},
   "outputs": [],
   "source": [
    "def sigmoid(z):\n",
    "    '''Sigmoid function maps from a value between 0 and 1'''\n",
    "    return 1/(1+np.exp(-z))"
   ]
  },
  {
   "cell_type": "code",
   "execution_count": 3,
   "metadata": {},
   "outputs": [
    {
     "data": {
      "image/png": "[encoded data removed]",
      "text/plain": [
       "<Figure size 432x288 with 1 Axes>"
      ]
     },
     "metadata": {
      "needs_background": "light"
     },
     "output_type": "display_data"
    }
   ],
   "source": [
    "x = np.linspace(-10,10,100)\n",
    "y = sigmoid(x)\n",
    "plt.plot(x,y)\n",
    "plt.title(\"Sigmoid Function\")\n",
    "plt.show()"
   ]
  },
  {
   "cell_type": "markdown",
   "metadata": {},
   "source": [
    "\\begin{equation}\n",
    "L(y,\\hat{y}) = -\\frac{1}{N} \\sum_{i=1}^N y_i \\log(\\hat{y_i}) + (1-y_i)\\log(\\hat{y_i})\n",
    "\\end{equation}"
   ]
  },
  {
   "cell_type": "code",
   "execution_count": 4,
   "metadata": {},
   "outputs": [],
   "source": [
    "def cross_entropy_loss(w,x,y):\n",
    "    '''Cross entropy loss function'''\n",
    "    z = np.dot(x,w)\n",
    "    h = sigmoid(z)\n",
    "    total_loss = np.sum(-y*np.log(h) - (1-y)*np.log(1-h)).mean()\n",
    "    return total_loss"
   ]
  },
  {
   "cell_type": "markdown",
   "metadata": {},
   "source": [
    "Use chain rule to calculate gradient of loss\n",
    "\n",
    "\\begin{equation}\n",
    "\\frac{\\partial{L}}{\\partial{w_i}} = \\frac{\\partial{L}}{\\partial{\\hat{y}}} \\frac{\\partial{\\hat{y}}}{\\partial{z}} \\frac{\\partial{z}}{\\partial{w}}\n",
    "\\end{equation}\n",
    "\n",
    "Examining each factor in turn\n",
    "\n",
    "\\begin{equation}\n",
    "\\frac{\\partial{L}}{\\partial{\\hat{y_i}}} = \\frac{-y_i}{\\hat{y_i}} + \\frac{1-y_i}{1-\\hat{y_i}} \n",
    "\\end{equation}\n",
    "\n",
    "\\begin{equation}\n",
    "\\frac{\\partial{L}}{\\partial{\\hat{y_i}}} =  \\frac{\\hat{y_i}-y_i}{\\hat{y_i}(1-\\hat{y_i})} \n",
    "\\end{equation}\n",
    "\n",
    "\\begin{equation}\n",
    "\\frac{\\partial{\\hat{y}}}{\\partial{z}}  =  \\hat{y_i}(1-\\hat{y_i}) \n",
    "\\end{equation}\n",
    "\n",
    "\\begin{equation}\n",
    "\\frac{\\partial{z}}{\\partial{w}}  =  x_i \n",
    "\\end{equation}\n",
    "\n",
    "Multiplying all the indivdual terms, you get \n",
    "\n",
    "\\begin{equation}\n",
    "\\frac{\\partial{L}}{\\partial{w_i}} = (\\hat{y_i}-y_i)x_i\n",
    "\\end{equation}"
   ]
  },
  {
   "cell_type": "code",
   "execution_count": 5,
   "metadata": {},
   "outputs": [],
   "source": [
    "def gradient(w,x,y):\n",
    "    '''Gradient for cross entropy loss'''\n",
    "    z = np.dot(x,w)\n",
    "    h = sigmoid(z)\n",
    "    gradient = np.dot(x.T,h - y)\n",
    "    return gradient"
   ]
  },
  {
   "cell_type": "code",
   "execution_count": 6,
   "metadata": {},
   "outputs": [],
   "source": [
    "def update_weights(learning_rate = 0.01, n_iters = 1000, loss_threshold = 0.001):\n",
    "    ## Initialize the weights with zero values\n",
    "    w = np.random.rand(x.shape[1])\n",
    "\n",
    "    for epoch in range(n_iters):\n",
    "        loss = cross_entropy_loss(w,x,y)\n",
    "        grad = gradient(w,x,y)\n",
    "        w = w - learning_rate * grad\n",
    "        if epoch % 1000 == 0:\n",
    "            print(f\"Loss after iteration {epoch} is {round(loss,2)}\")\n",
    "        if loss < loss_threshold:\n",
    "            break\n",
    "    return(w)"
   ]
  },
  {
   "cell_type": "code",
   "execution_count": 7,
   "metadata": {},
   "outputs": [],
   "source": [
    "def predict(w,x):\n",
    "    return sigmoid(np.dot(x,w))"
   ]
  },
  {
   "cell_type": "code",
   "execution_count": 8,
   "metadata": {},
   "outputs": [],
   "source": [
    "def accuracy(true, probs, threshold = 0.5):\n",
    "    predicted = (probs > threshold).astype(int)\n",
    "    return 100*(predicted == true).mean()"
   ]
  },
  {
   "cell_type": "code",
   "execution_count": 9,
   "metadata": {},
   "outputs": [],
   "source": [
    "cancer_data = load_breast_cancer()\n",
    "x, x_test, y, y_test = train_test_split(cancer_data.data, \n",
    "                                                    cancer_data.target, \n",
    "                                                    test_size=0.25, \n",
    "                                                    random_state=0)\n",
    "x = normalize(x)"
   ]
  },
  {
   "cell_type": "code",
   "execution_count": 10,
   "metadata": {},
   "outputs": [
    {
     "name": "stdout",
     "output_type": "stream",
     "text": [
      "Loss after iteration 0 is 281.24\n",
      "Loss after iteration 1000 is 87.94\n",
      "Loss after iteration 2000 is 83.62\n",
      "Loss after iteration 3000 is 81.8\n",
      "Loss after iteration 4000 is 80.66\n",
      "Loss after iteration 5000 is 79.8\n",
      "Loss after iteration 6000 is 79.09\n",
      "Loss after iteration 7000 is 78.5\n",
      "Loss after iteration 8000 is 77.97\n",
      "Loss after iteration 9000 is 77.51\n"
     ]
    }
   ],
   "source": [
    "w = update_weights(learning_rate = 0.05, n_iters = 10000, loss_threshold = 0.001)"
   ]
  },
  {
   "cell_type": "code",
   "execution_count": 11,
   "metadata": {},
   "outputs": [
    {
     "name": "stdout",
     "output_type": "stream",
     "text": [
      "Accuracy on test data is 93.706\n"
     ]
    }
   ],
   "source": [
    "preds = predict(w,normalize(x_test))\n",
    "acc = accuracy(y_test, preds)\n",
    "print(f\"Accuracy on test data is {round(acc,3)}\")"
   ]
  },
  {
   "cell_type": "code",
   "execution_count": null,
   "metadata": {},
   "outputs": [],
   "source": []
  }
 ],
 "metadata": {
  "kernelspec": {
   "display_name": "test_env",
   "language": "python",
   "name": "test_env"
  },
  "language_info": {
   "codemirror_mode": {
    "name": "ipython",
    "version": 3
   },
   "file_extension": ".py",
   "mimetype": "text/x-python",
   "name": "python",
   "nbconvert_exporter": "python",
   "pygments_lexer": "ipython3",
   "version": "3.7.6"
  }
 },
 "nbformat": 4,
 "nbformat_minor": 4
}
